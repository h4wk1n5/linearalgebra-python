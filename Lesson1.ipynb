{
 "cells": [
  {
   "cell_type": "code",
   "execution_count": 150,
   "metadata": {},
   "outputs": [],
   "source": [
    "import operator"
   ]
  },
  {
   "cell_type": "code",
   "execution_count": 326,
   "metadata": {},
   "outputs": [],
   "source": [
    "class Vector(object):\n",
    "    def __init__(self, coordinates):\n",
    "        try:\n",
    "            if not coordinates:\n",
    "                raise ValueError\n",
    "            self.coordinates = tuple(coordinates)\n",
    "            self.dimension = len(coordinates)\n",
    "        \n",
    "        except ValueError:\n",
    "            raise ValueError('The coordinates must be nonempty')\n",
    "        except TypeError:\n",
    "            raise TypeError('The coordinates must be an iterable')\n",
    "            \n",
    "    def __str__(self):\n",
    "        return 'Vector: {}'.format(self.coordinates)\n",
    "    \n",
    "    def __eq__(self, v):\n",
    "        return self.coordinates == v.coordinates\n",
    "    \n",
    "    def __add__(self, v):\n",
    "        if len(self.coordinates) != len(v.coordinates):\n",
    "            raise ValueError('Vectors must have same dimmensions.')\n",
    "        resultadd = tuple( x+y for x,y in zip(self.coordinates, v.coordinates))\n",
    "        return Vector(resultadd)\n",
    "    \n",
    "    def __mul__(self, v):\n",
    "        if len(self.coordinates) != len(v.coordinates):\n",
    "            raise ValueError('Vectors must have same dimmensions.')\n",
    "        resulmul = tuple(x*y for y,x in zip(self.coordinates, v.coordinates))\n",
    "        return Vector(resulmul)\n",
    "    \n",
    "    def __sub__(self, v):\n",
    "        if len(self.coordinates) != len(v.coordinates):\n",
    "            raise ValueError('Vectors must have same dimmensions.')\n",
    "        resulsub = tuple(x-y for x,y in zip(self.coordinates, v.coordinates))\n",
    "        return Vector(resulsub)\n",
    "    \n",
    "    def scalarmul(self, s):\n",
    "        resultscal = tuple(x*s for x in self.coordinates)\n",
    "        return Vector(resultscal)\n",
    "                "
   ]
  },
  {
   "cell_type": "code",
   "execution_count": 327,
   "metadata": {},
   "outputs": [
    {
     "name": "stdout",
     "output_type": "stream",
     "text": [
      "Vector: (1, 2, 3)\n"
     ]
    }
   ],
   "source": [
    "my_vector =  Vector([1,2,3])\n",
    "print (my_vector)"
   ]
  },
  {
   "cell_type": "code",
   "execution_count": 328,
   "metadata": {},
   "outputs": [
    {
     "data": {
      "text/plain": [
       "True"
      ]
     },
     "execution_count": 328,
     "metadata": {},
     "output_type": "execute_result"
    }
   ],
   "source": [
    "my_vector2= Vector([1,2,3])\n",
    "my_vector3= Vector([-1,2,3])\n",
    "\n",
    "my_vector == my_vector2\n"
   ]
  },
  {
   "cell_type": "code",
   "execution_count": 329,
   "metadata": {},
   "outputs": [
    {
     "data": {
      "text/plain": [
       "False"
      ]
     },
     "execution_count": 329,
     "metadata": {},
     "output_type": "execute_result"
    }
   ],
   "source": [
    "my_vector == my_vector3"
   ]
  },
  {
   "cell_type": "code",
   "execution_count": 330,
   "metadata": {
    "scrolled": true
   },
   "outputs": [
    {
     "name": "stdout",
     "output_type": "stream",
     "text": [
      "Vector: (2, 4, 6)\n",
      "Vector: (1, 4, 9)\n"
     ]
    }
   ],
   "source": [
    "'''Adition, Substraction, Scalar Multiplication'''\n",
    "\n",
    "print(my_vector + my_vector2)\n",
    "print(my_vector * my_vector2)"
   ]
  },
  {
   "cell_type": "code",
   "execution_count": 331,
   "metadata": {},
   "outputs": [
    {
     "name": "stdout",
     "output_type": "stream",
     "text": [
      "Vector: (5, 10, 15)\n"
     ]
    }
   ],
   "source": [
    "res2 =Vector.scalarmul(my_vector,5)\n",
    "print(res2)"
   ]
  },
  {
   "cell_type": "code",
   "execution_count": 332,
   "metadata": {},
   "outputs": [
    {
     "name": "stdout",
     "output_type": "stream",
     "text": [
      "Vector: (0, 0, 0)\n"
     ]
    }
   ],
   "source": [
    "print(my_vector - my_vector2)"
   ]
  },
  {
   "cell_type": "code",
   "execution_count": 333,
   "metadata": {},
   "outputs": [
    {
     "name": "stdout",
     "output_type": "stream",
     "text": [
      "Vector: (7.089, -7.229999999999999)\n"
     ]
    }
   ],
   "source": [
    "add1 = Vector([8.218,-9.341])\n",
    "add2 = Vector([-1.129,2.111])\n",
    "print(add1+add2)"
   ]
  },
  {
   "cell_type": "code",
   "execution_count": 334,
   "metadata": {},
   "outputs": [
    {
     "name": "stdout",
     "output_type": "stream",
     "text": [
      "Vector: (15.342, 7.337)\n"
     ]
    }
   ],
   "source": [
    "sub1 = Vector([7.119,8.215])\n",
    "sub2 = Vector([-8.223, 0.878])\n",
    "print(sub1-sub2)"
   ]
  },
  {
   "cell_type": "code",
   "execution_count": 335,
   "metadata": {},
   "outputs": [
    {
     "name": "stdout",
     "output_type": "stream",
     "text": [
      "Vector: (12.38211, -7.49892, -2.35638)\n"
     ]
    }
   ],
   "source": [
    "mult1 = Vector([1.671,-1.012,-0.318])\n",
    "scal=7.41\n",
    "res1 = Vector.scalarmul(mult1,scal)\n",
    "print(res1)"
   ]
  },
  {
   "cell_type": "code",
   "execution_count": null,
   "metadata": {},
   "outputs": [],
   "source": []
  },
  {
   "cell_type": "code",
   "execution_count": null,
   "metadata": {},
   "outputs": [],
   "source": []
  },
  {
   "cell_type": "code",
   "execution_count": null,
   "metadata": {},
   "outputs": [],
   "source": []
  }
 ],
 "metadata": {
  "kernelspec": {
   "display_name": "Python 3",
   "language": "python",
   "name": "python3"
  },
  "language_info": {
   "codemirror_mode": {
    "name": "ipython",
    "version": 3
   },
   "file_extension": ".py",
   "mimetype": "text/x-python",
   "name": "python",
   "nbconvert_exporter": "python",
   "pygments_lexer": "ipython3",
   "version": "3.5.2"
  }
 },
 "nbformat": 4,
 "nbformat_minor": 2
}
