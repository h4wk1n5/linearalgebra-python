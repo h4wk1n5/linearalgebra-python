{
 "cells": [
  {
   "cell_type": "code",
   "execution_count": 1176,
   "metadata": {},
   "outputs": [],
   "source": [
    "import operator\n",
    "import math\n",
    "from math import pi\n",
    "from decimal import Decimal, getcontext"
   ]
  },
  {
   "cell_type": "code",
   "execution_count": 1413,
   "metadata": {},
   "outputs": [],
   "source": [
    "class Vector(object):\n",
    "    \n",
    "    CANNOT_NORMALIZE_ZERO_VECTOR_MSG = 'Cannot normalize the zero vector'\n",
    "    \n",
    "    def __init__(self, coordinates):\n",
    "        try:\n",
    "            if not coordinates:\n",
    "                raise ValueError\n",
    "            self.coordinates = tuple([Decimal(x) for x in coordinates])\n",
    "            self.dimension = len(self.coordinates)\n",
    "        \n",
    "        except ValueError:\n",
    "            raise ValueError('The coordinates must be nonempty')\n",
    "        except TypeError:\n",
    "            raise TypeError('The coordinates must be an iterable')\n",
    "            \n",
    "    def __str__(self):\n",
    "        return 'Vector: {}'.format(self.coordinates)\n",
    "    \n",
    "    def __eq__(self, v):\n",
    "        return self.coordinates == v.coordinates\n",
    "    \n",
    "    def __add__(self, v):\n",
    "        if len(self.coordinates) != len(v.coordinates):\n",
    "            raise ValueError('Vectors must have same dimmensions.')\n",
    "        resultadd = tuple( x+y for x,y in zip(self.coordinates, v.coordinates))\n",
    "        return Vector(resultadd)\n",
    "    \n",
    "    def __mul__(self, v):\n",
    "        if len(self.coordinates) != len(v.coordinates):\n",
    "            raise ValueError('Vectors must have same dimmensions.')\n",
    "        resulmul = tuple(x*y for y,x in zip(self.coordinates, v.coordinates))\n",
    "        return Vector(resulmul)\n",
    "    \n",
    "    def __sub__(self, v):\n",
    "        if len(self.coordinates) != len(v.coordinates):\n",
    "            raise ValueError('Vectors must have same dimmensions.')\n",
    "        resulsub = tuple(x-y for x,y in zip(self.coordinates, v.coordinates))\n",
    "        return Vector(resulsub)\n",
    "    \n",
    "    def scalarmul(self, s):\n",
    "        resultscal = tuple(x*Decimal(s) for x in self.coordinates)\n",
    "        return Vector(resultscal)\n",
    "    \n",
    "    def magnitud(self):\n",
    "        return Decimal(sum(i ** 2 for i in self.coordinates)).sqrt()\n",
    "    \n",
    "    def normalize(self):\n",
    "        try:\n",
    "            s = self.magnitud()\n",
    "            normalized = tuple(x*(Decimal(1)/s) for x in self.coordinates)\n",
    "            return Vector(normalized)\n",
    "        except ZeroDivisionError:\n",
    "            raise Exception(self.CANNOT_NORMALIZE_ZERO_VECTOR_MSG)\n",
    "    \n",
    "    def dot(self,v):\n",
    "        return (sum(tuple(x*y for y,x in zip(self.coordinates, v.coordinates))))\n",
    "    \n",
    "    def angle(self, v):\n",
    "        try:\n",
    "            mag1 = self.normalize()\n",
    "            mag2 = v.normalize()\n",
    "            return math.acos(mag1.dot(mag2))\n",
    "        except Exception as e:\n",
    "            if str(e) == self.CANNOT_NORMALIZE_ZERO_VECTOR_MSG:\n",
    "                raise Exception('Cannot compute an angle with the zero vector')\n",
    "            else:\n",
    "                raise e\n",
    "    \n",
    "    \n",
    "    def degree(s):\n",
    "        return math.degrees(s)\n",
    "    \n",
    "    def is_orthogonal_to(self, v, tolerance=1e-10):\n",
    "        return abs(self.dot(v)) < tolerance\n",
    "    \n",
    "    def paralel(self, v):\n",
    "        return (self.is_zero() or v.is_zero() or\n",
    "                self.angle(v) == 0 \n",
    "                or self.angle(v) == pi)\n",
    "    \n",
    "    def is_zero(self, tolerance=1e-10):\n",
    "        return self.magnitud() < tolerance\n",
    "            \n",
    "        \n",
    "        \n",
    "                "
   ]
  },
  {
   "cell_type": "code",
   "execution_count": 1414,
   "metadata": {},
   "outputs": [
    {
     "name": "stdout",
     "output_type": "stream",
     "text": [
      "Vector: (Decimal('1'), Decimal('2'), Decimal('3'))\n"
     ]
    }
   ],
   "source": [
    "my_vector =  Vector([1,2,3])\n",
    "print (my_vector)"
   ]
  },
  {
   "cell_type": "code",
   "execution_count": 1415,
   "metadata": {},
   "outputs": [
    {
     "data": {
      "text/plain": [
       "True"
      ]
     },
     "execution_count": 1415,
     "metadata": {},
     "output_type": "execute_result"
    }
   ],
   "source": [
    "my_vector2= Vector([1,2,3])\n",
    "my_vector3= Vector([-1,2,3])\n",
    "\n",
    "my_vector == my_vector2\n"
   ]
  },
  {
   "cell_type": "code",
   "execution_count": 1416,
   "metadata": {},
   "outputs": [
    {
     "data": {
      "text/plain": [
       "False"
      ]
     },
     "execution_count": 1416,
     "metadata": {},
     "output_type": "execute_result"
    }
   ],
   "source": [
    "my_vector == my_vector3"
   ]
  },
  {
   "cell_type": "code",
   "execution_count": 1417,
   "metadata": {
    "scrolled": true
   },
   "outputs": [
    {
     "name": "stdout",
     "output_type": "stream",
     "text": [
      "Vector: (Decimal('2'), Decimal('4'), Decimal('6'))\n",
      "Vector: (Decimal('1'), Decimal('4'), Decimal('9'))\n"
     ]
    }
   ],
   "source": [
    "'''Adition, Substraction, Scalar Multiplication'''\n",
    "\n",
    "print(my_vector + my_vector2)\n",
    "print(my_vector * my_vector2)"
   ]
  },
  {
   "cell_type": "code",
   "execution_count": 1418,
   "metadata": {},
   "outputs": [
    {
     "name": "stdout",
     "output_type": "stream",
     "text": [
      "Vector: (Decimal('5'), Decimal('10'), Decimal('15'))\n"
     ]
    }
   ],
   "source": [
    "res2 =Vector.scalarmul(my_vector,5)\n",
    "print(res2)"
   ]
  },
  {
   "cell_type": "code",
   "execution_count": 1419,
   "metadata": {},
   "outputs": [
    {
     "name": "stdout",
     "output_type": "stream",
     "text": [
      "Vector: (Decimal('0'), Decimal('0'), Decimal('0'))\n"
     ]
    }
   ],
   "source": [
    "print(my_vector - my_vector2)"
   ]
  },
  {
   "cell_type": "code",
   "execution_count": 1420,
   "metadata": {},
   "outputs": [
    {
     "name": "stdout",
     "output_type": "stream",
     "text": [
      "Vector: (Decimal('7.088999999999999968025576891'), Decimal('-7.229999999999999094058011906'))\n"
     ]
    }
   ],
   "source": [
    "add1 = Vector([8.218,-9.341])\n",
    "add2 = Vector([-1.129,2.111])\n",
    "print(add1+add2)"
   ]
  },
  {
   "cell_type": "code",
   "execution_count": 1421,
   "metadata": {},
   "outputs": [
    {
     "name": "stdout",
     "output_type": "stream",
     "text": [
      "Vector: (Decimal('15.34200000000000052580162446'), Decimal('7.336999999999999855226917589'))\n"
     ]
    }
   ],
   "source": [
    "sub1 = Vector([7.119,8.215])\n",
    "sub2 = Vector([-8.223, 0.878])\n",
    "print(sub1-sub2)"
   ]
  },
  {
   "cell_type": "code",
   "execution_count": 1422,
   "metadata": {},
   "outputs": [
    {
     "name": "stdout",
     "output_type": "stream",
     "text": [
      "Vector: (Decimal('12.38211000000000054020787843'), Decimal('-7.498920000000000222790674798'), Decimal('-2.356380000000000081388229489'))\n"
     ]
    }
   ],
   "source": [
    "mult1 = Vector([1.671,-1.012,-0.318])\n",
    "scal=7.41\n",
    "res1 = Vector.scalarmul(mult1,scal)\n",
    "print(res1)"
   ]
  },
  {
   "cell_type": "code",
   "execution_count": 1423,
   "metadata": {},
   "outputs": [
    {
     "name": "stdout",
     "output_type": "stream",
     "text": [
      "3.741657386773941385583748732\n"
     ]
    }
   ],
   "source": [
    "print(Vector.magnitud(my_vector))\n"
   ]
  },
  {
   "cell_type": "code",
   "execution_count": 1424,
   "metadata": {},
   "outputs": [
    {
     "name": "stdout",
     "output_type": "stream",
     "text": [
      "Vector: (Decimal('0.2672612419124243846845534809'), Decimal('0.5345224838248487693691069618'), Decimal('0.8017837257372731540536604427'))\n"
     ]
    }
   ],
   "source": [
    "norm = Vector.normalize(my_vector)\n",
    "print (norm)"
   ]
  },
  {
   "cell_type": "code",
   "execution_count": 1425,
   "metadata": {},
   "outputs": [
    {
     "name": "stdout",
     "output_type": "stream",
     "text": [
      "7.440282924728064675549167963\n",
      "10.88418756729228776690849357\n"
     ]
    }
   ],
   "source": [
    "mag1 = Vector([-0.221, 7.437])\n",
    "mag2 = Vector([8.813, -1.331, -6.247])\n",
    "mag1done = Vector.magnitud(mag1)\n",
    "mag2done =  Vector.magnitud(mag2)\n",
    "print(mag1done)\n",
    "print(mag2done)"
   ]
  },
  {
   "cell_type": "code",
   "execution_count": 1426,
   "metadata": {},
   "outputs": [
    {
     "name": "stdout",
     "output_type": "stream",
     "text": [
      "Vector: (Decimal('0.9339352140866403209395391566'), Decimal('-0.3574423252623299934727680370'))\n",
      "Vector: (Decimal('0.3404012959433013534467308533'), Decimal('0.5300437012984872951141974901'), Decimal('-0.7766470449528028348026506789'))\n"
     ]
    }
   ],
   "source": [
    "dir1 = Vector([5.581, -2.136])\n",
    "dir2 = Vector([1.996, 3.108, -4.554])\n",
    "dir1done = Vector.normalize(dir1)\n",
    "dir2done = Vector.normalize(dir2)\n",
    "print(dir1done)\n",
    "print(dir2done)"
   ]
  },
  {
   "cell_type": "code",
   "execution_count": 1427,
   "metadata": {},
   "outputs": [
    {
     "name": "stdout",
     "output_type": "stream",
     "text": [
      "14\n"
     ]
    }
   ],
   "source": [
    "dotprod1 = Vector.dot(my_vector, my_vector2)\n",
    "print(dotprod1)"
   ]
  },
  {
   "cell_type": "code",
   "execution_count": 1428,
   "metadata": {},
   "outputs": [
    {
     "name": "stdout",
     "output_type": "stream",
     "text": [
      "0.5410995259571458\n",
      "31.002719133873992\n"
     ]
    }
   ],
   "source": [
    "theta1 = Vector.angle(my_vector, my_vector3)\n",
    "print(theta1)\n",
    "print(Vector.degree(theta1))"
   ]
  },
  {
   "cell_type": "code",
   "execution_count": 1429,
   "metadata": {},
   "outputs": [],
   "source": [
    "dotp1 = Vector([7.887, 4.138])\n",
    "dotp2 = Vector([-8.802, 6.776])"
   ]
  },
  {
   "cell_type": "code",
   "execution_count": 1430,
   "metadata": {},
   "outputs": [
    {
     "name": "stdout",
     "output_type": "stream",
     "text": [
      "-41.38228599999999454398391663\n"
     ]
    }
   ],
   "source": [
    "res1 = Vector.dot(dotp1, dotp2)\n",
    "print(res1)"
   ]
  },
  {
   "cell_type": "code",
   "execution_count": 1431,
   "metadata": {},
   "outputs": [],
   "source": [
    "dotp3=Vector([-5.955, -4.904, -1.874])\n",
    "dotp4=Vector([-4.496, -8.755, 7.103])"
   ]
  },
  {
   "cell_type": "code",
   "execution_count": 1432,
   "metadata": {},
   "outputs": [
    {
     "name": "stdout",
     "output_type": "stream",
     "text": [
      "56.39717800000000569975711073\n"
     ]
    }
   ],
   "source": [
    "res2 = Vector.dot(dotp3, dotp4)\n",
    "print(res2)"
   ]
  },
  {
   "cell_type": "code",
   "execution_count": 1433,
   "metadata": {},
   "outputs": [],
   "source": [
    "vecang1 = Vector([3.183, -7.627])\n",
    "vecang2 = Vector([-2.668, 5.319])"
   ]
  },
  {
   "cell_type": "code",
   "execution_count": 1434,
   "metadata": {},
   "outputs": [
    {
     "name": "stdout",
     "output_type": "stream",
     "text": [
      "3.0720263098372476\n"
     ]
    }
   ],
   "source": [
    "theta1rad = Vector.angle(vecang1, vecang2)\n",
    "print(theta1rad)"
   ]
  },
  {
   "cell_type": "code",
   "execution_count": 1435,
   "metadata": {},
   "outputs": [],
   "source": [
    "vecan3 = Vector([7.35, 0.221, 5.188])\n",
    "vecan4 = Vector([2.751, 8.259, 3.985])\n"
   ]
  },
  {
   "cell_type": "code",
   "execution_count": 1436,
   "metadata": {},
   "outputs": [
    {
     "name": "stdout",
     "output_type": "stream",
     "text": [
      "60.27581120523091\n"
     ]
    }
   ],
   "source": [
    "theta2degree = Vector.angle(vecan3, vecan4)\n",
    "print(Vector.degree(theta2degree))"
   ]
  },
  {
   "cell_type": "code",
   "execution_count": 1437,
   "metadata": {},
   "outputs": [],
   "source": [
    "para1 = Vector([-7.579, -7.88])\n",
    "para2 = Vector([22.737, 23.64])\n",
    "para3 = Vector([-2.029, 9.97, 4.172])\n",
    "para4 = Vector([-9.231, -6.639, -7.245])\n",
    "para5 = Vector([-2.328, -7.284, -1.214])\n",
    "para6 = Vector([-1.821, 1.072, -2.94])\n",
    "para7 = Vector([2.118, 4.827])\n",
    "para8 = Vector([0, 0])"
   ]
  },
  {
   "cell_type": "code",
   "execution_count": 1438,
   "metadata": {},
   "outputs": [
    {
     "name": "stdout",
     "output_type": "stream",
     "text": [
      "True\n",
      "False\n"
     ]
    }
   ],
   "source": [
    "print( Vector.paralel(para1, para2))\n",
    "print( Vector.is_orthogonal_to(para1, para2))"
   ]
  },
  {
   "cell_type": "code",
   "execution_count": 1439,
   "metadata": {},
   "outputs": [
    {
     "name": "stdout",
     "output_type": "stream",
     "text": [
      "False\n",
      "False\n"
     ]
    }
   ],
   "source": [
    "print( Vector.paralel(para3, para4))\n",
    "print( Vector.is_orthogonal_to(para3, para4))"
   ]
  },
  {
   "cell_type": "code",
   "execution_count": 1440,
   "metadata": {},
   "outputs": [
    {
     "name": "stdout",
     "output_type": "stream",
     "text": [
      "False\n",
      "True\n"
     ]
    }
   ],
   "source": [
    "print( Vector.paralel(para5, para6))\n",
    "print( Vector.is_orthogonal_to(para5, para6))"
   ]
  },
  {
   "cell_type": "code",
   "execution_count": 1441,
   "metadata": {},
   "outputs": [
    {
     "name": "stdout",
     "output_type": "stream",
     "text": [
      "True\n",
      "True\n"
     ]
    }
   ],
   "source": [
    "print( Vector.paralel(para7, para8))\n",
    "print( Vector.is_orthogonal_to(para7, para8))"
   ]
  },
  {
   "cell_type": "code",
   "execution_count": null,
   "metadata": {},
   "outputs": [],
   "source": []
  },
  {
   "cell_type": "code",
   "execution_count": null,
   "metadata": {},
   "outputs": [],
   "source": []
  },
  {
   "cell_type": "code",
   "execution_count": null,
   "metadata": {},
   "outputs": [],
   "source": []
  },
  {
   "cell_type": "code",
   "execution_count": null,
   "metadata": {},
   "outputs": [],
   "source": []
  },
  {
   "cell_type": "code",
   "execution_count": null,
   "metadata": {},
   "outputs": [],
   "source": []
  },
  {
   "cell_type": "code",
   "execution_count": null,
   "metadata": {},
   "outputs": [],
   "source": []
  }
 ],
 "metadata": {
  "kernelspec": {
   "display_name": "Python 3",
   "language": "python",
   "name": "python3"
  },
  "language_info": {
   "codemirror_mode": {
    "name": "ipython",
    "version": 3
   },
   "file_extension": ".py",
   "mimetype": "text/x-python",
   "name": "python",
   "nbconvert_exporter": "python",
   "pygments_lexer": "ipython3",
   "version": "3.5.2"
  }
 },
 "nbformat": 4,
 "nbformat_minor": 2
}
