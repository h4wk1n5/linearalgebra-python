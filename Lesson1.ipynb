{
 "cells": [
  {
   "cell_type": "code",
   "execution_count": 478,
   "metadata": {},
   "outputs": [],
   "source": [
    "import operator\n",
    "import math\n",
    "from decimal import Decimal, getcontext"
   ]
  },
  {
   "cell_type": "code",
   "execution_count": 526,
   "metadata": {},
   "outputs": [],
   "source": [
    "class Vector(object):\n",
    "    def __init__(self, coordinates):\n",
    "        try:\n",
    "            if not coordinates:\n",
    "                raise ValueError\n",
    "            self.coordinates = tuple([Decimal(x) for x in coordinates])\n",
    "            self.dimension = len(self.coordinates)\n",
    "        \n",
    "        except ValueError:\n",
    "            raise ValueError('The coordinates must be nonempty')\n",
    "        except TypeError:\n",
    "            raise TypeError('The coordinates must be an iterable')\n",
    "            \n",
    "    def __str__(self):\n",
    "        return 'Vector: {}'.format(self.coordinates)\n",
    "    \n",
    "    def __eq__(self, v):\n",
    "        return self.coordinates == v.coordinates\n",
    "    \n",
    "    def __add__(self, v):\n",
    "        if len(self.coordinates) != len(v.coordinates):\n",
    "            raise ValueError('Vectors must have same dimmensions.')\n",
    "        resultadd = tuple( x+y for x,y in zip(self.coordinates, v.coordinates))\n",
    "        return Vector(resultadd)\n",
    "    \n",
    "    def __mul__(self, v):\n",
    "        if len(self.coordinates) != len(v.coordinates):\n",
    "            raise ValueError('Vectors must have same dimmensions.')\n",
    "        resulmul = tuple(x*y for y,x in zip(self.coordinates, v.coordinates))\n",
    "        return Vector(resulmul)\n",
    "    \n",
    "    def __sub__(self, v):\n",
    "        if len(self.coordinates) != len(v.coordinates):\n",
    "            raise ValueError('Vectors must have same dimmensions.')\n",
    "        resulsub = tuple(x-y for x,y in zip(self.coordinates, v.coordinates))\n",
    "        return Vector(resulsub)\n",
    "    \n",
    "    def scalarmul(self, s):\n",
    "        resultscal = tuple(x*Decimal(s) for x in self.coordinates)\n",
    "        return Vector(resultscal)\n",
    "    \n",
    "    def magnitud(self):\n",
    "        expo2 = tuple(x**Decimal(2) for x in self.coordinates)\n",
    "        sumexp = (sum(expo2))\n",
    "        sqrt = Decimal(math.sqrt(sumexp))\n",
    "        return sqrt\n",
    "    \n",
    "    def normalize(self):\n",
    "        s = self.magnitud()\n",
    "        normalized = tuple(x*(Decimal(1)/s) for x in self.coordinates)\n",
    "        return normalized\n",
    "    \n",
    "    def dot(self,v):\n",
    "        multi = (self.__mul__(v))\n",
    "        return (sum(multi.coordinates))\n",
    "    \n",
    "    def theta(self, v):\n",
    "        dotprod = self.dot(v)\n",
    "        mag1 = self.magnitud()\n",
    "        mag2 = v.magnitud()\n",
    "        return math.acos(dotprod/(mag1*mag2))\n",
    "    \n",
    "    def degree(s):\n",
    "        return math.degrees(s)\n",
    "                "
   ]
  },
  {
   "cell_type": "code",
   "execution_count": 527,
   "metadata": {},
   "outputs": [
    {
     "name": "stdout",
     "output_type": "stream",
     "text": [
      "Vector: (Decimal('1'), Decimal('2'), Decimal('3'))\n"
     ]
    }
   ],
   "source": [
    "my_vector =  Vector([1,2,3])\n",
    "print (my_vector)"
   ]
  },
  {
   "cell_type": "code",
   "execution_count": 528,
   "metadata": {},
   "outputs": [
    {
     "data": {
      "text/plain": [
       "True"
      ]
     },
     "execution_count": 528,
     "metadata": {},
     "output_type": "execute_result"
    }
   ],
   "source": [
    "my_vector2= Vector([1,2,3])\n",
    "my_vector3= Vector([-1,2,3])\n",
    "\n",
    "my_vector == my_vector2\n"
   ]
  },
  {
   "cell_type": "code",
   "execution_count": 529,
   "metadata": {},
   "outputs": [
    {
     "data": {
      "text/plain": [
       "False"
      ]
     },
     "execution_count": 529,
     "metadata": {},
     "output_type": "execute_result"
    }
   ],
   "source": [
    "my_vector == my_vector3"
   ]
  },
  {
   "cell_type": "code",
   "execution_count": 530,
   "metadata": {
    "scrolled": true
   },
   "outputs": [
    {
     "name": "stdout",
     "output_type": "stream",
     "text": [
      "Vector: (Decimal('2'), Decimal('4'), Decimal('6'))\n",
      "Vector: (Decimal('1'), Decimal('4'), Decimal('9'))\n"
     ]
    }
   ],
   "source": [
    "'''Adition, Substraction, Scalar Multiplication'''\n",
    "\n",
    "print(my_vector + my_vector2)\n",
    "print(my_vector * my_vector2)"
   ]
  },
  {
   "cell_type": "code",
   "execution_count": 531,
   "metadata": {},
   "outputs": [
    {
     "name": "stdout",
     "output_type": "stream",
     "text": [
      "Vector: (Decimal('5'), Decimal('10'), Decimal('15'))\n"
     ]
    }
   ],
   "source": [
    "res2 =Vector.scalarmul(my_vector,5)\n",
    "print(res2)"
   ]
  },
  {
   "cell_type": "code",
   "execution_count": 532,
   "metadata": {},
   "outputs": [
    {
     "name": "stdout",
     "output_type": "stream",
     "text": [
      "Vector: (Decimal('0'), Decimal('0'), Decimal('0'))\n"
     ]
    }
   ],
   "source": [
    "print(my_vector - my_vector2)"
   ]
  },
  {
   "cell_type": "code",
   "execution_count": 533,
   "metadata": {},
   "outputs": [
    {
     "name": "stdout",
     "output_type": "stream",
     "text": [
      "Vector: (Decimal('7.088999999999999968025576891'), Decimal('-7.229999999999999094058011906'))\n"
     ]
    }
   ],
   "source": [
    "add1 = Vector([8.218,-9.341])\n",
    "add2 = Vector([-1.129,2.111])\n",
    "print(add1+add2)"
   ]
  },
  {
   "cell_type": "code",
   "execution_count": 534,
   "metadata": {},
   "outputs": [
    {
     "name": "stdout",
     "output_type": "stream",
     "text": [
      "Vector: (Decimal('15.34200000000000052580162446'), Decimal('7.336999999999999855226917589'))\n"
     ]
    }
   ],
   "source": [
    "sub1 = Vector([7.119,8.215])\n",
    "sub2 = Vector([-8.223, 0.878])\n",
    "print(sub1-sub2)"
   ]
  },
  {
   "cell_type": "code",
   "execution_count": 535,
   "metadata": {},
   "outputs": [
    {
     "name": "stdout",
     "output_type": "stream",
     "text": [
      "Vector: (Decimal('12.38211000000000054020787843'), Decimal('-7.498920000000000222790674798'), Decimal('-2.356380000000000081388229489'))\n"
     ]
    }
   ],
   "source": [
    "mult1 = Vector([1.671,-1.012,-0.318])\n",
    "scal=7.41\n",
    "res1 = Vector.scalarmul(mult1,scal)\n",
    "print(res1)"
   ]
  },
  {
   "cell_type": "code",
   "execution_count": 536,
   "metadata": {},
   "outputs": [
    {
     "name": "stdout",
     "output_type": "stream",
     "text": [
      "3.741657386773941329494164165225811302661895751953125\n"
     ]
    }
   ],
   "source": [
    "print(Vector.magnitud(my_vector))\n"
   ]
  },
  {
   "cell_type": "code",
   "execution_count": 537,
   "metadata": {},
   "outputs": [
    {
     "name": "stdout",
     "output_type": "stream",
     "text": [
      "(Decimal('0.2672612419124243886909523785'), Decimal('0.5345224838248487773819047570'), Decimal('0.8017837257372731660728571355'))\n"
     ]
    }
   ],
   "source": [
    "norm = Vector.normalize(my_vector)\n",
    "print (norm)"
   ]
  },
  {
   "cell_type": "code",
   "execution_count": 538,
   "metadata": {},
   "outputs": [
    {
     "name": "stdout",
     "output_type": "stream",
     "text": [
      "7.4402829247280646285389593685977160930633544921875\n",
      "10.8841875672922885343041343730874359607696533203125\n"
     ]
    }
   ],
   "source": [
    "mag1 = Vector([-0.221, 7.437])\n",
    "mag2 = Vector([8.813, -1.331, -6.247])\n",
    "mag1done = Vector.magnitud(mag1)\n",
    "mag2done =  Vector.magnitud(mag2)\n",
    "print(mag1done)\n",
    "print(mag2done)"
   ]
  },
  {
   "cell_type": "code",
   "execution_count": 539,
   "metadata": {},
   "outputs": [
    {
     "name": "stdout",
     "output_type": "stream",
     "text": [
      "(Decimal('0.9339352140866402951305391471'), Decimal('-0.3574423252623299835949640556'))\n",
      "(Decimal('0.3404012959433013535371710457'), Decimal('0.5300437012984872952550232004'), Decimal('-0.7766470449528028350089956868'))\n"
     ]
    }
   ],
   "source": [
    "dir1 = Vector([5.581, -2.136])\n",
    "dir2 = Vector([1.996, 3.108, -4.554])\n",
    "dir1done = Vector.normalize(dir1)\n",
    "dir2done = Vector.normalize(dir2)\n",
    "print(dir1done)\n",
    "print(dir2done)"
   ]
  },
  {
   "cell_type": "code",
   "execution_count": 540,
   "metadata": {},
   "outputs": [
    {
     "name": "stdout",
     "output_type": "stream",
     "text": [
      "14\n"
     ]
    }
   ],
   "source": [
    "dotprod1 = Vector.dot(my_vector, my_vector2)\n",
    "print(dotprod1)"
   ]
  },
  {
   "cell_type": "code",
   "execution_count": 541,
   "metadata": {},
   "outputs": [
    {
     "name": "stdout",
     "output_type": "stream",
     "text": [
      "0.5410995259571456\n",
      "31.00271913387398\n"
     ]
    }
   ],
   "source": [
    "theta1 = Vector.theta(my_vector, my_vector3)\n",
    "print(theta1)\n",
    "print(Vector.degree(theta1))"
   ]
  },
  {
   "cell_type": "code",
   "execution_count": 542,
   "metadata": {},
   "outputs": [],
   "source": [
    "dotp1 = Vector([7.887, 4.138])\n",
    "dotp2 = Vector([-8.802, 6.776])"
   ]
  },
  {
   "cell_type": "code",
   "execution_count": 543,
   "metadata": {},
   "outputs": [
    {
     "name": "stdout",
     "output_type": "stream",
     "text": [
      "-41.38228599999999454398391663\n"
     ]
    }
   ],
   "source": [
    "res1 = Vector.dot(dotp1, dotp2)\n",
    "print(res1)"
   ]
  },
  {
   "cell_type": "code",
   "execution_count": 544,
   "metadata": {},
   "outputs": [],
   "source": [
    "dotp3=Vector([-5.955, -4.904, -1.874])\n",
    "dotp4=Vector([-4.496, -8.755, 7.103])"
   ]
  },
  {
   "cell_type": "code",
   "execution_count": 545,
   "metadata": {},
   "outputs": [
    {
     "name": "stdout",
     "output_type": "stream",
     "text": [
      "56.39717800000000569975711073\n"
     ]
    }
   ],
   "source": [
    "res2 = Vector.dot(dotp3, dotp4)\n",
    "print(res2)"
   ]
  },
  {
   "cell_type": "code",
   "execution_count": 546,
   "metadata": {},
   "outputs": [],
   "source": [
    "vecang1 = Vector([3.183, -7.627])\n",
    "vecang2 = Vector([-2.668, 5.319])"
   ]
  },
  {
   "cell_type": "code",
   "execution_count": 547,
   "metadata": {},
   "outputs": [
    {
     "name": "stdout",
     "output_type": "stream",
     "text": [
      "3.0720263098372476\n"
     ]
    }
   ],
   "source": [
    "theta1rad = Vector.theta(vecang1, vecang2)\n",
    "print(theta1rad)"
   ]
  },
  {
   "cell_type": "code",
   "execution_count": 548,
   "metadata": {},
   "outputs": [],
   "source": [
    "vecan3 = Vector([7.35, 0.221, 5.188])\n",
    "vecan4 = Vector([2.751, 8.259, 3.985])\n"
   ]
  },
  {
   "cell_type": "code",
   "execution_count": 549,
   "metadata": {},
   "outputs": [
    {
     "name": "stdout",
     "output_type": "stream",
     "text": [
      "60.27581120523091\n"
     ]
    }
   ],
   "source": [
    "theta2degree = Vector.theta(vecan3, vecan4)\n",
    "print(Vector.degree(theta2degree))"
   ]
  },
  {
   "cell_type": "code",
   "execution_count": null,
   "metadata": {},
   "outputs": [],
   "source": []
  },
  {
   "cell_type": "code",
   "execution_count": null,
   "metadata": {},
   "outputs": [],
   "source": []
  },
  {
   "cell_type": "code",
   "execution_count": null,
   "metadata": {},
   "outputs": [],
   "source": []
  }
 ],
 "metadata": {
  "kernelspec": {
   "display_name": "Python 3",
   "language": "python",
   "name": "python3"
  },
  "language_info": {
   "codemirror_mode": {
    "name": "ipython",
    "version": 3
   },
   "file_extension": ".py",
   "mimetype": "text/x-python",
   "name": "python",
   "nbconvert_exporter": "python",
   "pygments_lexer": "ipython3",
   "version": "3.5.2"
  }
 },
 "nbformat": 4,
 "nbformat_minor": 2
}
